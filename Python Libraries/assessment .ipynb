{
 "cells": [
  {
   "cell_type": "markdown",
   "id": "0bc701e6",
   "metadata": {},
   "source": [
    "# Numpy"
   ]
  },
  {
   "cell_type": "code",
   "execution_count": 2,
   "id": "38d3e60f",
   "metadata": {},
   "outputs": [],
   "source": [
    "import numpy as np"
   ]
  },
  {
   "cell_type": "markdown",
   "id": "9e158e47",
   "metadata": {},
   "source": [
    "### Q.1 Convert a 1D array to a 2D array with 2 rows \n"
   ]
  },
  {
   "cell_type": "code",
   "execution_count": 25,
   "id": "cbb5427b",
   "metadata": {},
   "outputs": [
    {
     "name": "stdout",
     "output_type": "stream",
     "text": [
      "[1 2 3 4 5 6 7 8] \n",
      "\n",
      "[[1 2 3 4]\n",
      " [5 6 7 8]]\n"
     ]
    },
    {
     "data": {
      "text/plain": [
       "2"
      ]
     },
     "execution_count": 25,
     "metadata": {},
     "output_type": "execute_result"
    }
   ],
   "source": [
    "j=np.array([1,2,3,4,5,6,7,8])\n",
    "print(j,'\\n')\n",
    "\n",
    "k= j.reshape(2,4)\n",
    "print(k)\n",
    "\n",
    "k.ndim"
   ]
  },
  {
   "cell_type": "markdown",
   "id": "d65edc92",
   "metadata": {},
   "source": [
    "### Q.2 Get the common items between a and b "
   ]
  },
  {
   "cell_type": "code",
   "execution_count": 26,
   "id": "5ef3d6b9",
   "metadata": {},
   "outputs": [
    {
     "name": "stdout",
     "output_type": "stream",
     "text": [
      "[1 2 3 2 3 4 3 4 5 6]\n",
      "[ 7  2 10  2  7  4  9  4  9  8]\n"
     ]
    }
   ],
   "source": [
    "a = np.array([1,2,3,2,3,4,3,4,5,6])\n",
    "print(a)\n",
    "b = np.array([7,2,10,2,7,4,9,4,9,8])\n",
    "print(b)"
   ]
  },
  {
   "cell_type": "code",
   "execution_count": 27,
   "id": "330e38af",
   "metadata": {},
   "outputs": [
    {
     "data": {
      "text/plain": [
       "array([2, 4])"
      ]
     },
     "execution_count": 27,
     "metadata": {},
     "output_type": "execute_result"
    }
   ],
   "source": [
    "a[1::6]"
   ]
  },
  {
   "cell_type": "code",
   "execution_count": 28,
   "id": "b6f4b10f",
   "metadata": {},
   "outputs": [
    {
     "data": {
      "text/plain": [
       "array([2, 4])"
      ]
     },
     "execution_count": 28,
     "metadata": {},
     "output_type": "execute_result"
    }
   ],
   "source": [
    "b[1::6]"
   ]
  },
  {
   "cell_type": "markdown",
   "id": "e95c74a5",
   "metadata": {},
   "source": [
    "### Q.3 Get all items between 5 and 10 from a."
   ]
  },
  {
   "cell_type": "code",
   "execution_count": 37,
   "id": "88be4979",
   "metadata": {},
   "outputs": [
    {
     "name": "stdout",
     "output_type": "stream",
     "text": [
      "[ 2  6  1  9 10  3 27]\n"
     ]
    },
    {
     "data": {
      "text/plain": [
       "array([ 6,  9, 10])"
      ]
     },
     "execution_count": 37,
     "metadata": {},
     "output_type": "execute_result"
    }
   ],
   "source": [
    "a = np.array([2, 6, 1, 9, 10, 3, 27]) \n",
    "print(a)\n",
    "\n",
    "a[(a>=5) & (a<=10)]"
   ]
  },
  {
   "cell_type": "markdown",
   "id": "ba5d4799",
   "metadata": {},
   "source": [
    "### Q.4 Limit the number of items printed in python NumPy array a to a maximum of 6 elements. "
   ]
  },
  {
   "cell_type": "code",
   "execution_count": 42,
   "id": "ce4e0b2c",
   "metadata": {},
   "outputs": [
    {
     "name": "stdout",
     "output_type": "stream",
     "text": [
      "[ 0  1  2  3  4  5  6  7  8  9 10 11 12 13 14]\n"
     ]
    },
    {
     "data": {
      "text/plain": [
       "array([2, 3, 4, 5, 6, 7])"
      ]
     },
     "execution_count": 42,
     "metadata": {},
     "output_type": "execute_result"
    }
   ],
   "source": [
    "D = np.array([ 0, 1, 2, 3, 4, 5, 6, 7, 8, 9, 10, 11, 12, 13, 14]) \n",
    "print(D)\n",
    "\n",
    "D[:6]\n",
    "D[2:8]"
   ]
  },
  {
   "cell_type": "markdown",
   "id": "e04aeda0",
   "metadata": {},
   "source": [
    "# Pandas"
   ]
  },
  {
   "cell_type": "markdown",
   "id": "bea9a69e",
   "metadata": {},
   "source": [
    "###  Q-1 . Compute the minimum, 25th percentile, median, 75th, and maximum of ser. "
   ]
  },
  {
   "cell_type": "code",
   "execution_count": 4,
   "id": "8ad604ec",
   "metadata": {},
   "outputs": [
    {
     "name": "stdout",
     "output_type": "stream",
     "text": [
      "[-0.22285931  1.04593635  1.33236379 -1.20023858 -0.92094218 -1.51238524\n",
      "  1.66242676  0.07320177  0.05518421  0.18144502 -0.67107625 -0.94756266\n",
      " -0.07987733 -0.50705293 -0.39495256 -0.67573002  0.9071672   1.18198969\n",
      " -0.20353588  0.81946687  0.49581659  0.34412578 -1.43553385  0.5086358\n",
      " -0.2410212   1.40859101 -0.37156739  1.2769383  -0.40622088  0.95570996\n",
      " -0.07054871  0.50741627  0.47390223  0.18083814 -1.10268922  0.7787311\n",
      "  0.05592529  1.09937252  1.98263021  1.46608915 -0.66434978  0.84215858\n",
      " -0.24880561 -1.04049943 -0.43679935  1.054088   -0.71103635 -0.12499966\n",
      " -0.65192298  0.23946046 -1.39707497 -0.071356    3.93699068 -1.28365035\n",
      " -1.51096425 -0.64993124  0.66753027 -0.58731612 -0.77942685  0.39793338\n",
      "  0.37147176  0.77228021 -1.78401982 -0.02001351  0.56842631 -2.20894782\n",
      " -1.21294391 -0.54814036  0.51292404 -2.01617721 -0.72032578 -0.7312594\n",
      "  0.5066531  -2.34843577 -0.74513944 -1.16201027  0.37029943 -0.56359504\n",
      "  2.36459509  0.25014243  1.1158398  -0.18332076 -0.77082604  0.63700713\n",
      " -0.67105535  1.32372578 -1.65107072 -0.45395886  0.4697607  -2.11233508\n",
      "  0.55181141 -1.08592999 -0.09491903  0.13294358 -0.84563635 -1.28114479\n",
      " -0.25015902  1.48968014 -0.34364095 -1.0419626 ]\n",
      "0    -0.222859\n",
      "1     1.045936\n",
      "2     1.332364\n",
      "3    -1.200239\n",
      "4    -0.920942\n",
      "        ...   \n",
      "95   -1.281145\n",
      "96   -0.250159\n",
      "97    1.489680\n",
      "98   -0.343641\n",
      "99   -1.041963\n",
      "Length: 100, dtype: float64\n",
      "Minimum: -2.3484357729423255\n",
      "25th percentile: -0.7347294131262121\n",
      "Median: -0.15416020864181645\n",
      "75th percentile: 0.5226458831510181\n",
      "Maximum: 3.9369906768589202\n"
     ]
    }
   ],
   "source": [
    "import pandas as pd\n",
    "import numpy as np\n",
    "\n",
    "jj = np.random.randn(100)\n",
    "print(jj)\n",
    "\n",
    "ser = pd.Series(jj)  \n",
    "print(ser)\n",
    "\n",
    "result = ser.describe(percentiles=[.25, .50, .75])\n",
    "\n",
    "\n",
    "min_val = ser.min()\n",
    "max_val = ser.max()\n",
    "\n",
    "print(\"Minimum:\", min_val)\n",
    "print(\"25th percentile:\", result['25%'])\n",
    "print(\"Median:\", result['50%'])\n",
    "print(\"75th percentile:\", result['75%'])\n",
    "print(\"Maximum:\", max_val)"
   ]
  },
  {
   "cell_type": "markdown",
   "id": "676c5450",
   "metadata": {},
   "source": [
    "### Q-2 : Creating A Pandas Data Frame and Using Sample Data Sets."
   ]
  },
  {
   "cell_type": "code",
   "execution_count": 11,
   "id": "e39672e7",
   "metadata": {},
   "outputs": [
    {
     "name": "stdout",
     "output_type": "stream",
     "text": [
      "{'NAME': ['jay', 'abhi', 'umesh', 'lochan', 'avi'], 'AGE': [20, 35, 30, 25, 15]} \n",
      "\n",
      "\n",
      "     NAME  AGE\n",
      "0     jay   20\n",
      "1    abhi   35\n",
      "2   umesh   30\n",
      "3  lochan   25\n",
      "4     avi   15\n"
     ]
    },
    {
     "data": {
      "text/html": [
       "<div>\n",
       "<style scoped>\n",
       "    .dataframe tbody tr th:only-of-type {\n",
       "        vertical-align: middle;\n",
       "    }\n",
       "\n",
       "    .dataframe tbody tr th {\n",
       "        vertical-align: top;\n",
       "    }\n",
       "\n",
       "    .dataframe thead th {\n",
       "        text-align: right;\n",
       "    }\n",
       "</style>\n",
       "<table border=\"1\" class=\"dataframe\">\n",
       "  <thead>\n",
       "    <tr style=\"text-align: right;\">\n",
       "      <th></th>\n",
       "      <th>NAME</th>\n",
       "      <th>AGE</th>\n",
       "    </tr>\n",
       "  </thead>\n",
       "  <tbody>\n",
       "    <tr>\n",
       "      <th>0</th>\n",
       "      <td>jay</td>\n",
       "      <td>20</td>\n",
       "    </tr>\n",
       "    <tr>\n",
       "      <th>1</th>\n",
       "      <td>abhi</td>\n",
       "      <td>35</td>\n",
       "    </tr>\n",
       "    <tr>\n",
       "      <th>2</th>\n",
       "      <td>umesh</td>\n",
       "      <td>30</td>\n",
       "    </tr>\n",
       "    <tr>\n",
       "      <th>3</th>\n",
       "      <td>lochan</td>\n",
       "      <td>25</td>\n",
       "    </tr>\n",
       "    <tr>\n",
       "      <th>4</th>\n",
       "      <td>avi</td>\n",
       "      <td>15</td>\n",
       "    </tr>\n",
       "  </tbody>\n",
       "</table>\n",
       "</div>"
      ],
      "text/plain": [
       "     NAME  AGE\n",
       "0     jay   20\n",
       "1    abhi   35\n",
       "2   umesh   30\n",
       "3  lochan   25\n",
       "4     avi   15"
      ]
     },
     "execution_count": 11,
     "metadata": {},
     "output_type": "execute_result"
    }
   ],
   "source": [
    "data = {'NAME':['jay','abhi','umesh','lochan','avi'],\n",
    "        'AGE' :[20,35,30,25,15] }\n",
    "print(data,'\\n\\n')\n",
    "\n",
    "df = pd.DataFrame(data)\n",
    "print(df)\n",
    "df"
   ]
  },
  {
   "cell_type": "markdown",
   "id": "68baf40c",
   "metadata": {},
   "source": [
    "### Q-3 : Using NumPy, create a Pandas Data Frame with five rows and three columns. "
   ]
  },
  {
   "cell_type": "code",
   "execution_count": 22,
   "id": "e0f9dd82",
   "metadata": {},
   "outputs": [
    {
     "name": "stdout",
     "output_type": "stream",
     "text": [
      "[[0.43705957 0.01714934 0.54084002]\n",
      " [0.70749737 0.66180746 0.17572085]\n",
      " [0.09364206 0.77676368 0.13948022]\n",
      " [0.64023688 0.29642598 0.59630357]\n",
      " [0.80953363 0.64487713 0.67360576]] \n",
      "\n",
      "\n",
      "        jay       avi      abhi\n",
      "0  0.437060  0.017149  0.540840\n",
      "1  0.707497  0.661807  0.175721\n",
      "2  0.093642  0.776764  0.139480\n",
      "3  0.640237  0.296426  0.596304\n",
      "4  0.809534  0.644877  0.673606\n"
     ]
    }
   ],
   "source": [
    "jk= np.random.rand(5,3)\n",
    "print(jk,'\\n\\n')\n",
    "\n",
    "df = pd.DataFrame(jk, columns=['jay','avi','abhi'])\n",
    "print(df)"
   ]
  },
  {
   "cell_type": "markdown",
   "id": "65759841",
   "metadata": {},
   "source": [
    "### Q-4 : For a Pandas Data Frame created from a NumPy array, what is the default behavior for  the labels for the columns? For the rows? \n"
   ]
  },
  {
   "cell_type": "code",
   "execution_count": 23,
   "id": "b3e64463",
   "metadata": {},
   "outputs": [
    {
     "name": "stdout",
     "output_type": "stream",
     "text": [
      "[[0.22374038 0.94072246 0.38039337]\n",
      " [0.53148116 0.60119388 0.28384599]\n",
      " [0.46565514 0.0068398  0.04351573]\n",
      " [0.84885208 0.1722562  0.70766644]\n",
      " [0.3197675  0.5023103  0.94134439]] \n",
      "\n",
      "\n",
      "          0         1         2\n",
      "0  0.223740  0.940722  0.380393\n",
      "1  0.531481  0.601194  0.283846\n",
      "2  0.465655  0.006840  0.043516\n",
      "3  0.848852  0.172256  0.707666\n",
      "4  0.319767  0.502310  0.941344 \n",
      "\n",
      "\n",
      "\n",
      "with add lable \n",
      "\n",
      "        jay       avi      abhi\n",
      "A  0.223740  0.940722  0.380393\n",
      "B  0.531481  0.601194  0.283846\n",
      "C  0.465655  0.006840  0.043516\n",
      "D  0.848852  0.172256  0.707666\n",
      "E  0.319767  0.502310  0.941344\n"
     ]
    }
   ],
   "source": [
    "data = np.random.rand(5, 3)\n",
    "print(data,'\\n\\n')\n",
    "\n",
    "column = ['jay','avi','abhi']\n",
    "row = ['A','B','C','D','E']\n",
    "\n",
    "k =pd.DataFrame(data)\n",
    "print(k,'\\n\\n\\n')\n",
    "\n",
    "print(\"with add lable \\n\")\n",
    "df = pd.DataFrame(data, columns=column, index=row)\n",
    "print(df)\n"
   ]
  },
  {
   "cell_type": "markdown",
   "id": "8c80275f",
   "metadata": {},
   "source": [
    "## Q-5 : take csv file contains at least 10,000 rows and 12 columns which numerical and text values according to that continue following steps. "
   ]
  },
  {
   "cell_type": "code",
   "execution_count": 56,
   "id": "59cac22d",
   "metadata": {},
   "outputs": [
    {
     "data": {
      "text/html": [
       "<div>\n",
       "<style scoped>\n",
       "    .dataframe tbody tr th:only-of-type {\n",
       "        vertical-align: middle;\n",
       "    }\n",
       "\n",
       "    .dataframe tbody tr th {\n",
       "        vertical-align: top;\n",
       "    }\n",
       "\n",
       "    .dataframe thead th {\n",
       "        text-align: right;\n",
       "    }\n",
       "</style>\n",
       "<table border=\"1\" class=\"dataframe\">\n",
       "  <thead>\n",
       "    <tr style=\"text-align: right;\">\n",
       "      <th></th>\n",
       "      <th>User_ID</th>\n",
       "      <th>Cust_name</th>\n",
       "      <th>Product_ID</th>\n",
       "      <th>Gender</th>\n",
       "      <th>Age Group</th>\n",
       "      <th>Age</th>\n",
       "      <th>Marital_Status</th>\n",
       "      <th>State</th>\n",
       "      <th>Zone</th>\n",
       "      <th>Occupation</th>\n",
       "      <th>Product_Category</th>\n",
       "      <th>Orders</th>\n",
       "      <th>Amount</th>\n",
       "      <th>Status</th>\n",
       "      <th>unnamed1</th>\n",
       "    </tr>\n",
       "  </thead>\n",
       "  <tbody>\n",
       "    <tr>\n",
       "      <th>0</th>\n",
       "      <td>1002903</td>\n",
       "      <td>Sanskriti</td>\n",
       "      <td>P00125942</td>\n",
       "      <td>F</td>\n",
       "      <td>26-35</td>\n",
       "      <td>28</td>\n",
       "      <td>0</td>\n",
       "      <td>Maharashtra</td>\n",
       "      <td>Western</td>\n",
       "      <td>Healthcare</td>\n",
       "      <td>Auto</td>\n",
       "      <td>1</td>\n",
       "      <td>23952.0</td>\n",
       "      <td>NaN</td>\n",
       "      <td>NaN</td>\n",
       "    </tr>\n",
       "    <tr>\n",
       "      <th>1</th>\n",
       "      <td>1000732</td>\n",
       "      <td>Kartik</td>\n",
       "      <td>P00110942</td>\n",
       "      <td>F</td>\n",
       "      <td>26-35</td>\n",
       "      <td>35</td>\n",
       "      <td>1</td>\n",
       "      <td>Andhra Pradesh</td>\n",
       "      <td>Southern</td>\n",
       "      <td>Govt</td>\n",
       "      <td>Auto</td>\n",
       "      <td>3</td>\n",
       "      <td>23934.0</td>\n",
       "      <td>NaN</td>\n",
       "      <td>NaN</td>\n",
       "    </tr>\n",
       "    <tr>\n",
       "      <th>2</th>\n",
       "      <td>1001990</td>\n",
       "      <td>Bindu</td>\n",
       "      <td>P00118542</td>\n",
       "      <td>F</td>\n",
       "      <td>26-35</td>\n",
       "      <td>35</td>\n",
       "      <td>1</td>\n",
       "      <td>Uttar Pradesh</td>\n",
       "      <td>Central</td>\n",
       "      <td>Automobile</td>\n",
       "      <td>Auto</td>\n",
       "      <td>3</td>\n",
       "      <td>23924.0</td>\n",
       "      <td>NaN</td>\n",
       "      <td>NaN</td>\n",
       "    </tr>\n",
       "    <tr>\n",
       "      <th>3</th>\n",
       "      <td>1001425</td>\n",
       "      <td>Sudevi</td>\n",
       "      <td>P00237842</td>\n",
       "      <td>M</td>\n",
       "      <td>0-17</td>\n",
       "      <td>16</td>\n",
       "      <td>0</td>\n",
       "      <td>Karnataka</td>\n",
       "      <td>Southern</td>\n",
       "      <td>Construction</td>\n",
       "      <td>Auto</td>\n",
       "      <td>2</td>\n",
       "      <td>23912.0</td>\n",
       "      <td>NaN</td>\n",
       "      <td>NaN</td>\n",
       "    </tr>\n",
       "    <tr>\n",
       "      <th>4</th>\n",
       "      <td>1000588</td>\n",
       "      <td>Joni</td>\n",
       "      <td>P00057942</td>\n",
       "      <td>M</td>\n",
       "      <td>26-35</td>\n",
       "      <td>28</td>\n",
       "      <td>1</td>\n",
       "      <td>Gujarat</td>\n",
       "      <td>Western</td>\n",
       "      <td>Food Processing</td>\n",
       "      <td>Auto</td>\n",
       "      <td>2</td>\n",
       "      <td>23877.0</td>\n",
       "      <td>NaN</td>\n",
       "      <td>NaN</td>\n",
       "    </tr>\n",
       "    <tr>\n",
       "      <th>...</th>\n",
       "      <td>...</td>\n",
       "      <td>...</td>\n",
       "      <td>...</td>\n",
       "      <td>...</td>\n",
       "      <td>...</td>\n",
       "      <td>...</td>\n",
       "      <td>...</td>\n",
       "      <td>...</td>\n",
       "      <td>...</td>\n",
       "      <td>...</td>\n",
       "      <td>...</td>\n",
       "      <td>...</td>\n",
       "      <td>...</td>\n",
       "      <td>...</td>\n",
       "      <td>...</td>\n",
       "    </tr>\n",
       "    <tr>\n",
       "      <th>11246</th>\n",
       "      <td>1000695</td>\n",
       "      <td>Manning</td>\n",
       "      <td>P00296942</td>\n",
       "      <td>M</td>\n",
       "      <td>18-25</td>\n",
       "      <td>19</td>\n",
       "      <td>1</td>\n",
       "      <td>Maharashtra</td>\n",
       "      <td>Western</td>\n",
       "      <td>Chemical</td>\n",
       "      <td>Office</td>\n",
       "      <td>4</td>\n",
       "      <td>370.0</td>\n",
       "      <td>NaN</td>\n",
       "      <td>NaN</td>\n",
       "    </tr>\n",
       "    <tr>\n",
       "      <th>11247</th>\n",
       "      <td>1004089</td>\n",
       "      <td>Reichenbach</td>\n",
       "      <td>P00171342</td>\n",
       "      <td>M</td>\n",
       "      <td>26-35</td>\n",
       "      <td>33</td>\n",
       "      <td>0</td>\n",
       "      <td>Haryana</td>\n",
       "      <td>Northern</td>\n",
       "      <td>Healthcare</td>\n",
       "      <td>Veterinary</td>\n",
       "      <td>3</td>\n",
       "      <td>367.0</td>\n",
       "      <td>NaN</td>\n",
       "      <td>NaN</td>\n",
       "    </tr>\n",
       "    <tr>\n",
       "      <th>11248</th>\n",
       "      <td>1001209</td>\n",
       "      <td>Oshin</td>\n",
       "      <td>P00201342</td>\n",
       "      <td>F</td>\n",
       "      <td>36-45</td>\n",
       "      <td>40</td>\n",
       "      <td>0</td>\n",
       "      <td>Madhya Pradesh</td>\n",
       "      <td>Central</td>\n",
       "      <td>Textile</td>\n",
       "      <td>Office</td>\n",
       "      <td>4</td>\n",
       "      <td>213.0</td>\n",
       "      <td>NaN</td>\n",
       "      <td>NaN</td>\n",
       "    </tr>\n",
       "    <tr>\n",
       "      <th>11249</th>\n",
       "      <td>1004023</td>\n",
       "      <td>Noonan</td>\n",
       "      <td>P00059442</td>\n",
       "      <td>M</td>\n",
       "      <td>36-45</td>\n",
       "      <td>37</td>\n",
       "      <td>0</td>\n",
       "      <td>Karnataka</td>\n",
       "      <td>Southern</td>\n",
       "      <td>Agriculture</td>\n",
       "      <td>Office</td>\n",
       "      <td>3</td>\n",
       "      <td>206.0</td>\n",
       "      <td>NaN</td>\n",
       "      <td>NaN</td>\n",
       "    </tr>\n",
       "    <tr>\n",
       "      <th>11250</th>\n",
       "      <td>1002744</td>\n",
       "      <td>Brumley</td>\n",
       "      <td>P00281742</td>\n",
       "      <td>F</td>\n",
       "      <td>18-25</td>\n",
       "      <td>19</td>\n",
       "      <td>0</td>\n",
       "      <td>Maharashtra</td>\n",
       "      <td>Western</td>\n",
       "      <td>Healthcare</td>\n",
       "      <td>Office</td>\n",
       "      <td>3</td>\n",
       "      <td>188.0</td>\n",
       "      <td>NaN</td>\n",
       "      <td>NaN</td>\n",
       "    </tr>\n",
       "  </tbody>\n",
       "</table>\n",
       "<p>11251 rows × 15 columns</p>\n",
       "</div>"
      ],
      "text/plain": [
       "       User_ID    Cust_name Product_ID Gender Age Group  Age  Marital_Status  \\\n",
       "0      1002903    Sanskriti  P00125942      F     26-35   28               0   \n",
       "1      1000732       Kartik  P00110942      F     26-35   35               1   \n",
       "2      1001990        Bindu  P00118542      F     26-35   35               1   \n",
       "3      1001425       Sudevi  P00237842      M      0-17   16               0   \n",
       "4      1000588         Joni  P00057942      M     26-35   28               1   \n",
       "...        ...          ...        ...    ...       ...  ...             ...   \n",
       "11246  1000695      Manning  P00296942      M     18-25   19               1   \n",
       "11247  1004089  Reichenbach  P00171342      M     26-35   33               0   \n",
       "11248  1001209        Oshin  P00201342      F     36-45   40               0   \n",
       "11249  1004023       Noonan  P00059442      M     36-45   37               0   \n",
       "11250  1002744      Brumley  P00281742      F     18-25   19               0   \n",
       "\n",
       "                State      Zone       Occupation Product_Category  Orders  \\\n",
       "0         Maharashtra   Western       Healthcare             Auto       1   \n",
       "1      Andhra Pradesh  Southern             Govt             Auto       3   \n",
       "2       Uttar Pradesh   Central       Automobile             Auto       3   \n",
       "3           Karnataka  Southern     Construction             Auto       2   \n",
       "4             Gujarat   Western  Food Processing             Auto       2   \n",
       "...               ...       ...              ...              ...     ...   \n",
       "11246     Maharashtra   Western         Chemical           Office       4   \n",
       "11247         Haryana  Northern       Healthcare       Veterinary       3   \n",
       "11248  Madhya Pradesh   Central          Textile           Office       4   \n",
       "11249       Karnataka  Southern      Agriculture           Office       3   \n",
       "11250     Maharashtra   Western       Healthcare           Office       3   \n",
       "\n",
       "        Amount  Status  unnamed1  \n",
       "0      23952.0     NaN       NaN  \n",
       "1      23934.0     NaN       NaN  \n",
       "2      23924.0     NaN       NaN  \n",
       "3      23912.0     NaN       NaN  \n",
       "4      23877.0     NaN       NaN  \n",
       "...        ...     ...       ...  \n",
       "11246    370.0     NaN       NaN  \n",
       "11247    367.0     NaN       NaN  \n",
       "11248    213.0     NaN       NaN  \n",
       "11249    206.0     NaN       NaN  \n",
       "11250    188.0     NaN       NaN  \n",
       "\n",
       "[11251 rows x 15 columns]"
      ]
     },
     "execution_count": 56,
     "metadata": {},
     "output_type": "execute_result"
    }
   ],
   "source": [
    "data = pd.read_csv(\"C:\\DATA_ANALAYTICS\\Diwali_Sales_Data.csv\",encoding='latin-1')\n",
    "data"
   ]
  },
  {
   "cell_type": "markdown",
   "id": "9e133754",
   "metadata": {},
   "source": [
    "### Q-6 :  Write the code to show the number of rows and columns in data frame. "
   ]
  },
  {
   "cell_type": "code",
   "execution_count": 60,
   "id": "ccb44e93",
   "metadata": {},
   "outputs": [
    {
     "name": "stdout",
     "output_type": "stream",
     "text": [
      "(11251, 15)\n",
      "Number of rows: 11251\n",
      "Number of columns: 15\n"
     ]
    }
   ],
   "source": [
    "print(data.shape)\n",
    "\n",
    "num_rows, num_cols = data.shape\n",
    "print(f\"Number of rows: {num_rows}\")\n",
    "print(f\"Number of columns: {num_cols}\")"
   ]
  },
  {
   "cell_type": "markdown",
   "id": "6df97b33",
   "metadata": {},
   "source": [
    "### Q-7 : How might you show the first few rows of data frame? "
   ]
  },
  {
   "cell_type": "code",
   "execution_count": 61,
   "id": "18df477c",
   "metadata": {},
   "outputs": [
    {
     "data": {
      "text/html": [
       "<div>\n",
       "<style scoped>\n",
       "    .dataframe tbody tr th:only-of-type {\n",
       "        vertical-align: middle;\n",
       "    }\n",
       "\n",
       "    .dataframe tbody tr th {\n",
       "        vertical-align: top;\n",
       "    }\n",
       "\n",
       "    .dataframe thead th {\n",
       "        text-align: right;\n",
       "    }\n",
       "</style>\n",
       "<table border=\"1\" class=\"dataframe\">\n",
       "  <thead>\n",
       "    <tr style=\"text-align: right;\">\n",
       "      <th></th>\n",
       "      <th>User_ID</th>\n",
       "      <th>Cust_name</th>\n",
       "      <th>Product_ID</th>\n",
       "      <th>Gender</th>\n",
       "      <th>Age Group</th>\n",
       "      <th>Age</th>\n",
       "      <th>Marital_Status</th>\n",
       "      <th>State</th>\n",
       "      <th>Zone</th>\n",
       "      <th>Occupation</th>\n",
       "      <th>Product_Category</th>\n",
       "      <th>Orders</th>\n",
       "      <th>Amount</th>\n",
       "      <th>Status</th>\n",
       "      <th>unnamed1</th>\n",
       "    </tr>\n",
       "  </thead>\n",
       "  <tbody>\n",
       "    <tr>\n",
       "      <th>0</th>\n",
       "      <td>1002903</td>\n",
       "      <td>Sanskriti</td>\n",
       "      <td>P00125942</td>\n",
       "      <td>F</td>\n",
       "      <td>26-35</td>\n",
       "      <td>28</td>\n",
       "      <td>0</td>\n",
       "      <td>Maharashtra</td>\n",
       "      <td>Western</td>\n",
       "      <td>Healthcare</td>\n",
       "      <td>Auto</td>\n",
       "      <td>1</td>\n",
       "      <td>23952.0</td>\n",
       "      <td>NaN</td>\n",
       "      <td>NaN</td>\n",
       "    </tr>\n",
       "    <tr>\n",
       "      <th>1</th>\n",
       "      <td>1000732</td>\n",
       "      <td>Kartik</td>\n",
       "      <td>P00110942</td>\n",
       "      <td>F</td>\n",
       "      <td>26-35</td>\n",
       "      <td>35</td>\n",
       "      <td>1</td>\n",
       "      <td>Andhra Pradesh</td>\n",
       "      <td>Southern</td>\n",
       "      <td>Govt</td>\n",
       "      <td>Auto</td>\n",
       "      <td>3</td>\n",
       "      <td>23934.0</td>\n",
       "      <td>NaN</td>\n",
       "      <td>NaN</td>\n",
       "    </tr>\n",
       "    <tr>\n",
       "      <th>2</th>\n",
       "      <td>1001990</td>\n",
       "      <td>Bindu</td>\n",
       "      <td>P00118542</td>\n",
       "      <td>F</td>\n",
       "      <td>26-35</td>\n",
       "      <td>35</td>\n",
       "      <td>1</td>\n",
       "      <td>Uttar Pradesh</td>\n",
       "      <td>Central</td>\n",
       "      <td>Automobile</td>\n",
       "      <td>Auto</td>\n",
       "      <td>3</td>\n",
       "      <td>23924.0</td>\n",
       "      <td>NaN</td>\n",
       "      <td>NaN</td>\n",
       "    </tr>\n",
       "    <tr>\n",
       "      <th>3</th>\n",
       "      <td>1001425</td>\n",
       "      <td>Sudevi</td>\n",
       "      <td>P00237842</td>\n",
       "      <td>M</td>\n",
       "      <td>0-17</td>\n",
       "      <td>16</td>\n",
       "      <td>0</td>\n",
       "      <td>Karnataka</td>\n",
       "      <td>Southern</td>\n",
       "      <td>Construction</td>\n",
       "      <td>Auto</td>\n",
       "      <td>2</td>\n",
       "      <td>23912.0</td>\n",
       "      <td>NaN</td>\n",
       "      <td>NaN</td>\n",
       "    </tr>\n",
       "    <tr>\n",
       "      <th>4</th>\n",
       "      <td>1000588</td>\n",
       "      <td>Joni</td>\n",
       "      <td>P00057942</td>\n",
       "      <td>M</td>\n",
       "      <td>26-35</td>\n",
       "      <td>28</td>\n",
       "      <td>1</td>\n",
       "      <td>Gujarat</td>\n",
       "      <td>Western</td>\n",
       "      <td>Food Processing</td>\n",
       "      <td>Auto</td>\n",
       "      <td>2</td>\n",
       "      <td>23877.0</td>\n",
       "      <td>NaN</td>\n",
       "      <td>NaN</td>\n",
       "    </tr>\n",
       "  </tbody>\n",
       "</table>\n",
       "</div>"
      ],
      "text/plain": [
       "   User_ID  Cust_name Product_ID Gender Age Group  Age  Marital_Status  \\\n",
       "0  1002903  Sanskriti  P00125942      F     26-35   28               0   \n",
       "1  1000732     Kartik  P00110942      F     26-35   35               1   \n",
       "2  1001990      Bindu  P00118542      F     26-35   35               1   \n",
       "3  1001425     Sudevi  P00237842      M      0-17   16               0   \n",
       "4  1000588       Joni  P00057942      M     26-35   28               1   \n",
       "\n",
       "            State      Zone       Occupation Product_Category  Orders  \\\n",
       "0     Maharashtra   Western       Healthcare             Auto       1   \n",
       "1  Andhra Pradesh  Southern             Govt             Auto       3   \n",
       "2   Uttar Pradesh   Central       Automobile             Auto       3   \n",
       "3       Karnataka  Southern     Construction             Auto       2   \n",
       "4         Gujarat   Western  Food Processing             Auto       2   \n",
       "\n",
       "    Amount  Status  unnamed1  \n",
       "0  23952.0     NaN       NaN  \n",
       "1  23934.0     NaN       NaN  \n",
       "2  23924.0     NaN       NaN  \n",
       "3  23912.0     NaN       NaN  \n",
       "4  23877.0     NaN       NaN  "
      ]
     },
     "execution_count": 61,
     "metadata": {},
     "output_type": "execute_result"
    }
   ],
   "source": [
    "data.head()"
   ]
  },
  {
   "cell_type": "markdown",
   "id": "733166cb",
   "metadata": {},
   "source": [
    "### Q-8 : . If you select a single column from the diamonds Data Frame, what will be the type of the return value? "
   ]
  },
  {
   "cell_type": "code",
   "execution_count": 67,
   "id": "a4b8e13f",
   "metadata": {},
   "outputs": [
    {
     "name": "stdout",
     "output_type": "stream",
     "text": [
      "       carat        cut color clarity  depth  table  price     x     y     z\n",
      "0       0.23      Ideal     E     SI2   61.5   55.0    326  3.95  3.98  2.43\n",
      "1       0.21    Premium     E     SI1   59.8   61.0    326  3.89  3.84  2.31\n",
      "2       0.23       Good     E     VS1   56.9   65.0    327  4.05  4.07  2.31\n",
      "3       0.29    Premium     I     VS2   62.4   58.0    334  4.20  4.23  2.63\n",
      "4       0.31       Good     J     SI2   63.3   58.0    335  4.34  4.35  2.75\n",
      "...      ...        ...   ...     ...    ...    ...    ...   ...   ...   ...\n",
      "53935   0.72      Ideal     D     SI1   60.8   57.0   2757  5.75  5.76  3.50\n",
      "53936   0.72       Good     D     SI1   63.1   55.0   2757  5.69  5.75  3.61\n",
      "53937   0.70  Very Good     D     SI1   62.8   60.0   2757  5.66  5.68  3.56\n",
      "53938   0.86    Premium     H     SI2   61.0   58.0   2757  6.15  6.12  3.74\n",
      "53939   0.75      Ideal     D     SI2   62.2   55.0   2757  5.83  5.87  3.64\n",
      "\n",
      "[53940 rows x 10 columns] \n",
      "\n",
      "\n",
      "\n",
      "<class 'pandas.core.series.Series'>\n"
     ]
    }
   ],
   "source": [
    "import seaborn as sns\n",
    "\n",
    "diamonds = sns.load_dataset('diamonds')\n",
    "print(diamonds,'\\n\\n\\n')\n",
    "\n",
    "column = diamonds['carat']\n",
    "\n",
    "print(type(column))\n"
   ]
  },
  {
   "cell_type": "markdown",
   "id": "1499ba1b",
   "metadata": {},
   "source": [
    "### Q-9 : Create a line plot using the x and y values provided below. Label the y-axis as “Y” and label the x-axis as “X”. \n",
    "#### x = [3, 4, 5, 6] \n",
    "#### y = [1.5, 2, 2.5, 3] "
   ]
  },
  {
   "cell_type": "code",
   "execution_count": 68,
   "id": "f505e0f7",
   "metadata": {},
   "outputs": [
    {
     "data": {
      "image/png": "[encoded data removed]",
      "text/plain": [
       "<Figure size 640x480 with 1 Axes>"
      ]
     },
     "metadata": {},
     "output_type": "display_data"
    }
   ],
   "source": [
    "import matplotlib.pyplot as plt\n",
    "\n",
    "x = [3, 4, 5, 6]\n",
    "y = [1.5, 2, 2.5, 3]\n",
    "\n",
    "plt.plot(x, y)\n",
    "\n",
    "plt.xlabel('X')\n",
    "plt.ylabel('Y')\n",
    "\n",
    "plt.show()\n"
   ]
  },
  {
   "cell_type": "markdown",
   "id": "80d9e31f",
   "metadata": {},
   "source": [
    "### Q-10 : \n",
    "Create an array of numbers between 0 and 6 with increments of 0.3 and name its “x”. \n",
    "Then on the same plot, plot x, x², x³, and x⁴. For consistency, use the following style lines \n",
    "respectively, “ro”, “bs”, “g”, and “:”. Lastly, make sure that the x-axis covers 0 to 6, while \n",
    "the y-axis spans from 0 to 125. Do not worry if you are not familiar with the style lines — \n",
    "you will recognize them as soon as you see the plot.\n"
   ]
  },
  {
   "cell_type": "code",
   "execution_count": 71,
   "id": "fcbab31d",
   "metadata": {},
   "outputs": [
    {
     "name": "stdout",
     "output_type": "stream",
     "text": [
      "[0.0, 0.3, 0.6, 0.8999999999999999, 1.2, 1.5, 1.7999999999999998, 2.1, 2.4, 2.6999999999999997, 3.0, 3.3, 3.5999999999999996, 3.9, 4.2, 4.5, 4.8, 5.1, 5.3999999999999995, 5.7, 6.0]\n"
     ]
    },
    {
     "data": {
      "image/png": "[encoded data removed]",
      "text/plain": [
       "<Figure size 640x480 with 1 Axes>"
      ]
     },
     "metadata": {},
     "output_type": "display_data"
    }
   ],
   "source": [
    "x = np.arange(0, 6.3, 0.3)\n",
    "print(list(x))\n",
    "\n",
    "plt.plot(x, x, 'ro', label='x')      \n",
    "plt.plot(x, x**2, 'bs', label='x²')  \n",
    "plt.plot(x, x**3, 'g', label='x³')   \n",
    "plt.plot(x, x**4, ':', label='x⁴')   \n",
    "\n",
    "plt.xlim(0, 6)\n",
    "plt.ylim(0, 125)\n",
    "\n",
    "\n",
    "plt.xlabel('X-axis')\n",
    "plt.ylabel('Y-axis')\n",
    "plt.legend()\n",
    "\n",
    "\n",
    "plt.show()\n"
   ]
  },
  {
   "cell_type": "markdown",
   "id": "a917f5b1",
   "metadata": {},
   "source": [
    "# Q-11 :\n",
    " Heights and initials of a group of individuals are provided below. Create a bar plot titled                                 “Height Comparison” to compare the heights among this group. \n",
    "####  height = [179, 155, 191, 152, 188, 177] \n",
    "#### names = ['QA', 'WB', 'EC', 'RD', 'TE', 'YF'] \n"
   ]
  },
  {
   "cell_type": "code",
   "execution_count": 83,
   "id": "68524c2f",
   "metadata": {},
   "outputs": [
    {
     "data": {
      "image/png": "[encoded data removed]",
      "text/plain": [
       "<Figure size 1000x400 with 1 Axes>"
      ]
     },
     "metadata": {},
     "output_type": "display_data"
    }
   ],
   "source": [
    "height = [179, 155, 191, 152, 188, 177]\n",
    "names = ['QA', 'WB', 'EC', 'RD', 'TE', 'YF']\n",
    "\n",
    "\n",
    "plt.figure(figsize=(10,4))  \n",
    "plt.bar(names, height, color='skyblue')\n",
    "\n",
    "plt.title('Height Comparison')\n",
    "plt.xlabel('Names')\n",
    "plt.ylabel('Height')\n",
    "\n",
    "plt.show()\n"
   ]
  },
  {
   "cell_type": "markdown",
   "id": "8b7f7d1b",
   "metadata": {},
   "source": [
    "# Q-12 : \n",
    "Plot a histogram of x, where x consists of 100,000 randomly-selected points with a normal \n",
    "distribution (hint: you can use numpy.random.randn() to generate the random points). The \n",
    "histogram should have 10 bins. Look at how the histogram changes when we try 20 and 50 \n",
    "bins. "
   ]
  },
  {
   "cell_type": "code",
   "execution_count": 87,
   "id": "e0377eb2",
   "metadata": {},
   "outputs": [
    {
     "data": {
      "image/png": "[encoded data removed]",
      "text/plain": [
       "<Figure size 1000x600 with 3 Axes>"
      ]
     },
     "metadata": {},
     "output_type": "display_data"
    }
   ],
   "source": [
    "x = np.random.randn(100000)\n",
    "\n",
    "plt.figure(figsize=(10, 6))  \n",
    "\n",
    "plt.subplot(2, 2, 1)  \n",
    "plt.hist(x, bins=10, color='skyblue')\n",
    "plt.title('Histogram with 10 Bins')\n",
    "\n",
    "plt.subplot(2, 2, 2) \n",
    "plt.hist(x, bins=20, color='salmon')\n",
    "plt.title('Histogram with 20 Bins')\n",
    "\n",
    "plt.subplot(2, 2, 3)  \n",
    "plt.hist(x, bins=50, color='lightgreen')\n",
    "plt.title('Histogram with 50 Bins')\n",
    "\n",
    "plt.tight_layout()  \n",
    "\n",
    "plt.show()\n"
   ]
  },
  {
   "cell_type": "code",
   "execution_count": null,
   "id": "ecbd0fe8",
   "metadata": {},
   "outputs": [],
   "source": []
  }
 ],
 "metadata": {
  "kernelspec": {
   "display_name": "Python 3 (ipykernel)",
   "language": "python",
   "name": "python3"
  },
  "language_info": {
   "codemirror_mode": {
    "name": "ipython",
    "version": 3
   },
   "file_extension": ".py",
   "mimetype": "text/x-python",
   "name": "python",
   "nbconvert_exporter": "python",
   "pygments_lexer": "ipython3",
   "version": "3.11.5"
  }
 },
 "nbformat": 4,
 "nbformat_minor": 5
}
